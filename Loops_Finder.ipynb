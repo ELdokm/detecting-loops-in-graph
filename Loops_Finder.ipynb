{
  "nbformat": 4,
  "nbformat_minor": 0,
  "metadata": {
    "colab": {
      "provenance": []
    },
    "kernelspec": {
      "name": "python3",
      "display_name": "Python 3"
    },
    "language_info": {
      "name": "python"
    }
  },
  "cells": [
    {
      "cell_type": "code",
      "execution_count": 1,
      "metadata": {
        "id": "EZQ6k3CGAC5E"
      },
      "outputs": [],
      "source": [
        "import pandas as pd\n",
        "import networkx as nx\n",
        "import matplotlib.pyplot as plt"
      ]
    },
    {
      "cell_type": "code",
      "source": [
        "df = pd.read_csv(\"path\")\n",
        "graph = nx.from_pandas_edgelist(df, source='source', target='target', create_using=nx.DiGraph())"
      ],
      "metadata": {
        "id": "9eS_Q2f7AHBc"
      },
      "execution_count": null,
      "outputs": []
    },
    {
      "cell_type": "code",
      "source": [
        "# Find loops\n",
        "loops = []\n",
        "for node in graph.nodes:\n",
        "    for cycle in nx.simple_cycles(graph, node):\n",
        "        loops.append(cycle)\n",
        "if loops:\n",
        "    print(\"Loops found\")\n",
        "    for loop in loops:\n",
        "        print(loop)\n",
        "else:\n",
        "    print(\"No loops found\")"
      ],
      "metadata": {
        "id": "uWAm1o2hAKgI"
      },
      "execution_count": null,
      "outputs": []
    },
    {
      "cell_type": "code",
      "source": [
        "# Draw the graph\n",
        "pos = nx.spring_layout(graph)\n",
        "nx.draw(graph, pos, with_labels=True, node_size=1000, node_color='skyblue', font_size=10, font_weight='bold')\n",
        "plt.show()"
      ],
      "metadata": {
        "id": "7fcXNMPuAMTf"
      },
      "execution_count": null,
      "outputs": []
    }
  ]
}